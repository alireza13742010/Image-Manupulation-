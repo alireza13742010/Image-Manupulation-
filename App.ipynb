{
 "cells": [
  {
   "cell_type": "code",
   "execution_count": 40,
   "metadata": {},
   "outputs": [],
   "source": [
    "import json\n",
    "import os\n",
    "import time\n",
    "import random\n",
    "import gradio as gr\n",
    "import numpy as np\n",
    "import requests\n",
    "from PIL import Image\n",
    "import matplotlib.pyplot as plt"
   ]
  },
  {
   "cell_type": "code",
   "execution_count": 50,
   "metadata": {},
   "outputs": [],
   "source": [
    "URL = \"http://127.0.0.1:8188/api/prompt\"\n",
    "OUTPUT_DIR = '/media/avidmech/data/ComfyUI/output'\n",
    "INPUT_DIR = '/media/avidmech/data/ComfyUI/input'"
   ]
  },
  {
   "cell_type": "code",
   "execution_count": 42,
   "metadata": {},
   "outputs": [],
   "source": [
    "def get_latest_image(folder):\n",
    "    files = os.listdir(folder)\n",
    "    image_files = [f for f in files if f.lower().endswith(('.png', '.jpg', '.jpeg'))]\n",
    "    image_files.sort(key=lambda x: os.path.getmtime(os.path.join(folder, x)))\n",
    "    latest_image = os.path.join(folder, image_files[-1]) if image_files else None\n",
    "    return latest_image\n"
   ]
  },
  {
   "cell_type": "code",
   "execution_count": 43,
   "metadata": {},
   "outputs": [],
   "source": [
    "def start_queue(prompt_workflow):\n",
    "    p = {\"prompt\": prompt_workflow}\n",
    "    data = json.dumps(p).encode('utf-8')\n",
    "    requests.post(URL, data=data)\n"
   ]
  },
  {
   "cell_type": "code",
   "execution_count": 48,
   "metadata": {},
   "outputs": [],
   "source": [
    "def generate_image(prompt_text, step, cfg, input_image):   \n",
    "    with open(\"Image Editing Qwen (1).json\", \"r\") as file_json:\n",
    "        prompt = json.load(file_json)\n",
    "        prompt[\"5\"][\"inputs\"][\"prompt\"] = f'{prompt_text}'\n",
    "        prompt[\"12\"][\"inputs\"][\"steps\"] = f'{step}'\n",
    "        prompt[\"12\"][\"inputs\"][\"cfg\"] = f'{cfg}'\n",
    "\n",
    "    image = Image.fromarray(input_image)\n",
    "    min_side = min(image.size)\n",
    "    scale_factor = 512 / min_side\n",
    "    new_size = (round(image.size[0] * scale_factor), round(image.size[1] * scale_factor))\n",
    "    resized_image = image.resize(new_size)\n",
    "\n",
    "    resized_image.save(os.path.join(INPUT_DIR, \"test.jpg\"))\n",
    "    previous_image = get_latest_image(OUTPUT_DIR)\n",
    "    \n",
    "    start_queue(prompt)\n",
    "\n",
    "    while True:\n",
    "        latest_image = get_latest_image(OUTPUT_DIR)\n",
    "        if latest_image != previous_image:\n",
    "            return latest_image\n",
    "\n",
    "        time.sleep(1)"
   ]
  },
  {
   "cell_type": "code",
   "execution_count": 49,
   "metadata": {},
   "outputs": [
    {
     "name": "stdout",
     "output_type": "stream",
     "text": [
      "* Running on local URL:  http://127.0.0.1:7869\n",
      "* To create a public link, set `share=True` in `launch()`.\n"
     ]
    },
    {
     "data": {
      "text/html": [
       "<div><iframe src=\"http://127.0.0.1:7869/\" width=\"100%\" height=\"500\" allow=\"autoplay; camera; microphone; clipboard-read; clipboard-write;\" frameborder=\"0\" allowfullscreen></iframe></div>"
      ],
      "text/plain": [
       "<IPython.core.display.HTML object>"
      ]
     },
     "metadata": {},
     "output_type": "display_data"
    },
    {
     "data": {
      "text/plain": []
     },
     "execution_count": 49,
     "metadata": {},
     "output_type": "execute_result"
    }
   ],
   "source": [
    "demo = gr.Interface(fn = generate_image, inputs = [\"text\", \"text\", \"text\", 'image'], outputs = ['image'])\n",
    "demo.launch()"
   ]
  },
  {
   "cell_type": "code",
   "execution_count": null,
   "metadata": {},
   "outputs": [],
   "source": []
  }
 ],
 "metadata": {
  "kernelspec": {
   "display_name": "myenv310",
   "language": "python",
   "name": "python3"
  },
  "language_info": {
   "codemirror_mode": {
    "name": "ipython",
    "version": 3
   },
   "file_extension": ".py",
   "mimetype": "text/x-python",
   "name": "python",
   "nbconvert_exporter": "python",
   "pygments_lexer": "ipython3",
   "version": "3.10.16"
  }
 },
 "nbformat": 4,
 "nbformat_minor": 2
}
